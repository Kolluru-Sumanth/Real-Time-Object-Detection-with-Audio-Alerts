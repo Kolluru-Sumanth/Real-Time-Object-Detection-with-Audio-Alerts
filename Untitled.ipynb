{
 "cells": [
  {
   "cell_type": "code",
   "execution_count": 2,
   "id": "3c2c9a80",
   "metadata": {
    "scrolled": true
   },
   "outputs": [
    {
     "name": "stdout",
     "output_type": "stream",
     "text": [
      "Requirement already satisfied: opencv-contrib-python in c:\\anaconda3\\lib\\site-packages (4.10.0.84)\n",
      "Requirement already satisfied: numpy>=1.21.2 in c:\\anaconda3\\lib\\site-packages (from opencv-contrib-python) (1.24.3)\n"
     ]
    }
   ],
   "source": [
    "!pip install opencv-contrib-python"
   ]
  },
  {
   "cell_type": "code",
   "execution_count": 3,
   "id": "1f81ad82",
   "metadata": {
    "scrolled": true
   },
   "outputs": [
    {
     "name": "stdout",
     "output_type": "stream",
     "text": [
      "Requirement already satisfied: cvlib in c:\\anaconda3\\lib\\site-packages (0.2.7)\n",
      "Requirement already satisfied: numpy in c:\\anaconda3\\lib\\site-packages (from cvlib) (1.24.3)\n",
      "Requirement already satisfied: progressbar in c:\\anaconda3\\lib\\site-packages (from cvlib) (2.5)\n",
      "Requirement already satisfied: requests in c:\\anaconda3\\lib\\site-packages (from cvlib) (2.31.0)\n",
      "Requirement already satisfied: pillow in c:\\anaconda3\\lib\\site-packages (from cvlib) (9.4.0)\n",
      "Requirement already satisfied: imageio in c:\\anaconda3\\lib\\site-packages (from cvlib) (2.26.0)\n",
      "Requirement already satisfied: imutils in c:\\anaconda3\\lib\\site-packages (from cvlib) (0.5.4)\n",
      "Requirement already satisfied: charset-normalizer<4,>=2 in c:\\anaconda3\\lib\\site-packages (from requests->cvlib) (2.0.4)\n",
      "Requirement already satisfied: idna<4,>=2.5 in c:\\anaconda3\\lib\\site-packages (from requests->cvlib) (3.4)\n",
      "Requirement already satisfied: urllib3<3,>=1.21.1 in c:\\anaconda3\\lib\\site-packages (from requests->cvlib) (1.26.16)\n",
      "Requirement already satisfied: certifi>=2017.4.17 in c:\\anaconda3\\lib\\site-packages (from requests->cvlib) (2023.7.22)\n"
     ]
    }
   ],
   "source": [
    "!pip install cvlib"
   ]
  },
  {
   "cell_type": "code",
   "execution_count": 4,
   "id": "c1c495b9",
   "metadata": {
    "scrolled": true
   },
   "outputs": [
    {
     "name": "stdout",
     "output_type": "stream",
     "text": [
      "Requirement already satisfied: gtts in c:\\anaconda3\\lib\\site-packages (2.5.3)\n",
      "Requirement already satisfied: playsound in c:\\anaconda3\\lib\\site-packages (1.3.0)\n",
      "Requirement already satisfied: requests<3,>=2.27 in c:\\anaconda3\\lib\\site-packages (from gtts) (2.31.0)\n",
      "Requirement already satisfied: click<8.2,>=7.1 in c:\\anaconda3\\lib\\site-packages (from gtts) (8.0.4)\n",
      "Requirement already satisfied: colorama in c:\\anaconda3\\lib\\site-packages (from click<8.2,>=7.1->gtts) (0.4.6)\n",
      "Requirement already satisfied: charset-normalizer<4,>=2 in c:\\anaconda3\\lib\\site-packages (from requests<3,>=2.27->gtts) (2.0.4)\n",
      "Requirement already satisfied: idna<4,>=2.5 in c:\\anaconda3\\lib\\site-packages (from requests<3,>=2.27->gtts) (3.4)\n",
      "Requirement already satisfied: urllib3<3,>=1.21.1 in c:\\anaconda3\\lib\\site-packages (from requests<3,>=2.27->gtts) (1.26.16)\n",
      "Requirement already satisfied: certifi>=2017.4.17 in c:\\anaconda3\\lib\\site-packages (from requests<3,>=2.27->gtts) (2023.7.22)\n"
     ]
    }
   ],
   "source": [
    "!pip install gtts playsound"
   ]
  },
  {
   "cell_type": "code",
   "execution_count": 5,
   "id": "02684972",
   "metadata": {},
   "outputs": [],
   "source": [
    "import cv2\n",
    "import cvlib as cv\n",
    "from cvlib.object_detection import draw_bbox\n",
    "from gtts import gTTS\n",
    "from playsound import playsound"
   ]
  },
  {
   "cell_type": "code",
   "execution_count": null,
   "id": "fb91d717",
   "metadata": {},
   "outputs": [],
   "source": [
    "import cv2\n",
    "import cvlib as cv\n",
    "from cvlib.object_detection import draw_bbox\n",
    "from gtts import gTTS\n",
    "from playsound import playsound\n",
    "\n",
    "video = cv2.VideoCapture(1)\n",
    "labels = []\n",
    "\n",
    "def playSound(text):\n",
    "    output = gTTS(text=text, lang=\"en\", slow=False)\n",
    "    output.save(\"./sounds/output.mp3\")\n",
    "    playsound(\"./sounds/output.mp3\")\n",
    "\n",
    "while True:\n",
    "    ret, frame = video.read()  # capturing each frame from video\n",
    "    if not ret:\n",
    "        break  # Exit if no frame is captured\n",
    "\n",
    "    bbox, label, conf = cv.detect_common_objects(frame)  # detect common objects\n",
    "    output_image = draw_bbox(frame, bbox, label, conf)  # draw bounding boxes\n",
    "\n",
    "    cv2.imshow(\"Object Detection\", output_image)  # show the image to the user\n",
    "\n",
    "    for i in label:\n",
    "        if i not in labels:\n",
    "            labels.append(i)\n",
    "\n",
    "    key = cv2.waitKey(1) & 0xFF\n",
    "    if key == ord('q'):\n",
    "        break\n",
    "\n",
    "video.release()\n",
    "cv2.destroyAllWindows()\n",
    "\n",
    "go = True\n",
    "newSentence = []\n",
    "for i in labels:\n",
    "    if go:\n",
    "        newSentence.append(\"There is a \" + i)\n",
    "        go = False\n",
    "    else:\n",
    "        newSentence.append(\"an \" + i)\n",
    "\n",
    "playSound(\" \".join(newSentence))\n"
   ]
  },
  {
   "cell_type": "code",
   "execution_count": null,
   "id": "ccf97d67",
   "metadata": {},
   "outputs": [],
   "source": []
  }
 ],
 "metadata": {
  "kernelspec": {
   "display_name": "Python 3 (ipykernel)",
   "language": "python",
   "name": "python3"
  },
  "language_info": {
   "codemirror_mode": {
    "name": "ipython",
    "version": 3
   },
   "file_extension": ".py",
   "mimetype": "text/x-python",
   "name": "python",
   "nbconvert_exporter": "python",
   "pygments_lexer": "ipython3",
   "version": "3.11.5"
  }
 },
 "nbformat": 4,
 "nbformat_minor": 5
}
